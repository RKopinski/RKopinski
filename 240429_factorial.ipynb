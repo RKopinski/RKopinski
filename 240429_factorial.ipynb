{
  "nbformat": 4,
  "nbformat_minor": 0,
  "metadata": {
    "colab": {
      "provenance": [],
      "authorship_tag": "ABX9TyPKviyMaYRxQvlnvv68cAoM",
      "include_colab_link": true
    },
    "kernelspec": {
      "name": "python3",
      "display_name": "Python 3"
    },
    "language_info": {
      "name": "python"
    }
  },
  "cells": [
    {
      "cell_type": "markdown",
      "metadata": {
        "id": "view-in-github",
        "colab_type": "text"
      },
      "source": [
        "<a href=\"https://colab.research.google.com/github/RKopinski/RKopinski/blob/main/240429_factorial.ipynb\" target=\"_parent\"><img src=\"https://colab.research.google.com/assets/colab-badge.svg\" alt=\"Open In Colab\"/></a>"
      ]
    },
    {
      "cell_type": "code",
      "execution_count": 2,
      "metadata": {
        "colab": {
          "base_uri": "https://localhost:8080/"
        },
        "id": "YOY-HWmKRuJ_",
        "outputId": "6932b0a1-b618-48a5-c787-af1a0db07535"
      },
      "outputs": [
        {
          "output_type": "stream",
          "name": "stdout",
          "text": [
            "4 factorial is 24\n"
          ]
        }
      ],
      "source": [
        "x = 4\n",
        "i = 1\n",
        "factorial = 1\n",
        "while i <= x:\n",
        "  factorial *= i\n",
        "  i += 1\n",
        "print(f'{x} factorial is {factorial}')"
      ]
    },
    {
      "cell_type": "code",
      "source": [],
      "metadata": {
        "id": "Fgi0WfO6SLj3"
      },
      "execution_count": null,
      "outputs": []
    }
  ]
}
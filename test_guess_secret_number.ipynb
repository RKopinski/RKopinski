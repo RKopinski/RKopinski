{
  "nbformat": 4,
  "nbformat_minor": 0,
  "metadata": {
    "colab": {
      "provenance": [],
      "authorship_tag": "ABX9TyP144LKHm6tqcNPZ17qysmL",
      "include_colab_link": true
    },
    "kernelspec": {
      "name": "python3",
      "display_name": "Python 3"
    },
    "language_info": {
      "name": "python"
    }
  },
  "cells": [
    {
      "cell_type": "markdown",
      "metadata": {
        "id": "view-in-github",
        "colab_type": "text"
      },
      "source": [
        "<a href=\"https://colab.research.google.com/github/RKopinski/RKopinski/blob/main/test_guess_secret_number.ipynb\" target=\"_parent\"><img src=\"https://colab.research.google.com/assets/colab-badge.svg\" alt=\"Open In Colab\"/></a>"
      ]
    },
    {
      "cell_type": "code",
      "source": [
        "#define a secret number\n",
        "secret = 5\n",
        "#user input a number\n",
        "user_input = int(input(\"guess the number: \"))\n",
        "#loop if number higher say so, lower say so, match then congrats\n",
        "if secret < user_input:\n",
        "  print (\"you are too high!\")\n",
        "elif secret > user_input:\n",
        "  print (\"you are too low!\")\n",
        "else:\n",
        "  print (f\"that is a match: {secret} {user_input}\")\n",
        "print (\"Thank you!\")\n"
      ],
      "metadata": {
        "colab": {
          "base_uri": "https://localhost:8080/"
        },
        "id": "houyl9dQ4de3",
        "outputId": "47ddb488-766e-43b5-c9d5-079491603e8f"
      },
      "execution_count": 5,
      "outputs": [
        {
          "output_type": "stream",
          "name": "stdout",
          "text": [
            "guess the number: 3\n",
            "you are too low!\n",
            "Thank you!\n"
          ]
        }
      ]
    },
    {
      "cell_type": "code",
      "source": [],
      "metadata": {
        "id": "vGN-FA1z5Tkd"
      },
      "execution_count": null,
      "outputs": []
    },
    {
      "cell_type": "code",
      "source": [],
      "metadata": {
        "id": "88E_jTqU8dAi"
      },
      "execution_count": null,
      "outputs": []
    }
  ]
}